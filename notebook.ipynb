{
 "cells": [
  {
   "cell_type": "code",
   "execution_count": 18,
   "metadata": {},
   "outputs": [],
   "source": [
    "import pickle\n",
    "import datasets\n",
    "import argparse\n",
    "import itertools\n",
    "import os\n",
    "from torch_geometric.loader import DataLoader\n",
    "import numpy as np\n",
    "from configs import get_args_parser"
   ]
  },
  {
   "cell_type": "code",
   "execution_count": 6,
   "metadata": {},
   "outputs": [],
   "source": [
    "data_dir = \"./data/fold_0/train\""
   ]
  },
  {
   "cell_type": "code",
   "execution_count": 7,
   "metadata": {},
   "outputs": [
    {
     "name": "stderr",
     "output_type": "stream",
     "text": [
      "/opt/homebrew/Caskroom/miniforge/base/envs/graph/lib/python3.11/site-packages/torch_geometric/typing.py:18: UserWarning: An issue occurred while importing 'pyg-lib'. Disabling its usage. Stacktrace: dlopen(/opt/homebrew/Caskroom/miniforge/base/envs/graph/lib/python3.11/site-packages/libpyg.so, 0x0006): tried: '/opt/homebrew/Caskroom/miniforge/base/envs/graph/lib/python3.11/site-packages/libpyg.so' (mach-o file, but is an incompatible architecture (have 'x86_64', need 'arm64')), '/System/Volumes/Preboot/Cryptexes/OS/opt/homebrew/Caskroom/miniforge/base/envs/graph/lib/python3.11/site-packages/libpyg.so' (no such file), '/opt/homebrew/Caskroom/miniforge/base/envs/graph/lib/python3.11/site-packages/libpyg.so' (mach-o file, but is an incompatible architecture (have 'x86_64', need 'arm64'))\n",
      "  warnings.warn(f\"An issue occurred while importing 'pyg-lib'. \"\n"
     ]
    }
   ],
   "source": [
    "dataset = []\n",
    "for root, folder, files in os.walk(data_dir):\n",
    "    for file in files:\n",
    "        if (file.endswith(\"pickle\")):\n",
    "            pkl_path = os.path.join(root, file)\n",
    "            infile = open(pkl_path, \"rb\")\n",
    "            graphs = pickle.load(infile)\n",
    "        \n",
    "            dataset.append(graphs)\n",
    "\n",
    "dataset = list(itertools.chain(*dataset))"
   ]
  },
  {
   "cell_type": "code",
   "execution_count": 19,
   "metadata": {},
   "outputs": [],
   "source": [
    "datset = DataLoader(dataset, batch_size=1)\n",
    "data = dataset[0]"
   ]
  },
  {
   "cell_type": "code",
   "execution_count": 21,
   "metadata": {},
   "outputs": [
    {
     "name": "stdout",
     "output_type": "stream",
     "text": [
      "Number of graphs: 93846\n",
      "Number of nodes: 425\n",
      "Has isolated nodes: False\n"
     ]
    },
    {
     "name": "stderr",
     "output_type": "stream",
     "text": [
      "/opt/homebrew/Caskroom/miniforge/base/envs/graph/lib/python3.11/site-packages/torch_geometric/data/storage.py:310: UserWarning: Unable to accurately infer 'num_nodes' from the attribute set '{'edge_attr', 'tag', 'edge_index', 'x', 'filename', 'problem', 'topic'}'. Please explicitly set 'num_nodes' as an attribute of 'data' to suppress this warning\n",
      "  warnings.warn(\n"
     ]
    }
   ],
   "source": [
    "# Print information about the dataset\n",
    "print(f'Number of graphs: {len(dataset)}')\n",
    "print(f'Number of nodes: {np.asarray(data.x).shape[0]}')\n",
    "print(f'Has isolated nodes: {data.has_isolated_nodes()}')"
   ]
  }
 ],
 "metadata": {
  "kernelspec": {
   "display_name": "graph",
   "language": "python",
   "name": "python3"
  },
  "language_info": {
   "codemirror_mode": {
    "name": "ipython",
    "version": 3
   },
   "file_extension": ".py",
   "mimetype": "text/x-python",
   "name": "python",
   "nbconvert_exporter": "python",
   "pygments_lexer": "ipython3",
   "version": "3.11.3"
  },
  "orig_nbformat": 4
 },
 "nbformat": 4,
 "nbformat_minor": 2
}
